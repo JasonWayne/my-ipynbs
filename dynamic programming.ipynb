{
 "cells": [
  {
   "cell_type": "markdown",
   "metadata": {},
   "source": [
    "### 经典问题：有1元，3元，5元三种硬币，要拿着三种硬币凑出n元钱，最少需要几个硬币？"
   ]
  },
  {
   "cell_type": "code",
   "execution_count": 5,
   "metadata": {
    "collapsed": false
   },
   "outputs": [
    {
     "name": "stdout",
     "output_type": "stream",
     "text": [
      "[(0, 0), (1, 1), (2, 2), (3, 1), (4, 2), (5, 1), (6, 2), (7, 3), (8, 2), (9, 3), (10, 2), (11, 3), (12, 4), (13, 3), (14, 4), (15, 3), (16, 4), (17, 5), (18, 4), (19, 5), (20, 4)]\n"
     ]
    }
   ],
   "source": [
    "# encoding:utf-8\n",
    "import sys\n",
    "\n",
    "def how_many_coins(goal):\n",
    "\tcoin_set = {1, 3, 5}\n",
    "\tmemory = [sys.maxint for _ in xrange(goal + 1)]\n",
    "\tmemory[0] = 0\n",
    "\n",
    "\tfor i in xrange(1, goal + 1):\n",
    "\t\tfor coin in coin_set:\n",
    "\t\t\tif i - coin >= 0 and memory[i - coin] + 1 < memory[i]:\n",
    "\t\t\t\tmemory[i] = memory[i - coin] + 1\n",
    "\n",
    "\treturn memory\n",
    "\n",
    "print [(index, value) for index, value in enumerate(how_many_coins(20))]\n"
   ]
  },
  {
   "cell_type": "code",
   "execution_count": null,
   "metadata": {
    "collapsed": true
   },
   "outputs": [],
   "source": []
  }
 ],
 "metadata": {
  "kernelspec": {
   "display_name": "Python 2",
   "language": "python",
   "name": "python2"
  },
  "language_info": {
   "codemirror_mode": {
    "name": "ipython",
    "version": 2
   },
   "file_extension": ".py",
   "mimetype": "text/x-python",
   "name": "python",
   "nbconvert_exporter": "python",
   "pygments_lexer": "ipython2",
   "version": "2.7.10"
  }
 },
 "nbformat": 4,
 "nbformat_minor": 0
}
